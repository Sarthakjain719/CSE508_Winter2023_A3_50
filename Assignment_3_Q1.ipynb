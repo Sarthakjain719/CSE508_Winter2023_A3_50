{
  "nbformat": 4,
  "nbformat_minor": 0,
  "metadata": {
    "colab": {
      "provenance": []
    },
    "kernelspec": {
      "name": "python3",
      "display_name": "Python 3"
    },
    "language_info": {
      "name": "python"
    }
  },
  "cells": [
    {
      "cell_type": "code",
      "source": [
        "import pandas as pd\n",
        "import numpy as np\n",
        "import matplotlib.pyplot as plt"
      ],
      "metadata": {
        "id": "BZdrzAxJbf7W"
      },
      "execution_count": 2,
      "outputs": []
    },
    {
      "cell_type": "code",
      "execution_count": 3,
      "metadata": {
        "id": "xg7iZmo5x0Na",
        "colab": {
          "base_uri": "https://localhost:8080/"
        },
        "outputId": "7b535c7a-b2c5-43c2-a19c-1ce644af8146"
      },
      "outputs": [
        {
          "output_type": "stream",
          "name": "stdout",
          "text": [
            "Mounted at /content/drive\n"
          ]
        }
      ],
      "source": [
        "from google.colab import drive\n",
        "drive.mount('/content/drive')"
      ]
    },
    {
      "cell_type": "code",
      "source": [
        "data = np.loadtxt('/content/drive/MyDrive/IR_Assignment_data/Data_ass2/Wiki-Vote.txt', dtype=int, comments='#', delimiter='\\t')\n"
      ],
      "metadata": {
        "id": "Xh1m4aRGwOwg"
      },
      "execution_count": 4,
      "outputs": []
    },
    {
      "cell_type": "code",
      "source": [
        "# node_map = {}\n",
        "# for i, node in enumerate(np.unique(data)):\n",
        "#     node_map[node] = i\n",
        "node_map = {}\n",
        "for i, node in enumerate(np.unique([edge[0] for edge in data] + [edge[1] for edge in data])):\n",
        "    node_map[node] = i\n",
        "\n",
        "\n",
        "\n",
        "n_nodes = len(node_map)\n",
        "adj_matrix =pd.DataFrame(np.zeros((n_nodes, n_nodes)),index=node_map.keys(),columns=node_map.keys(),dtype=int)\n",
        "\n",
        "for i, j in data:\n",
        "    adj_matrix.loc[i, j] = 1\n",
        "print(adj_matrix)"
      ],
      "metadata": {
        "id": "7uDvi9NM0Vew",
        "colab": {
          "base_uri": "https://localhost:8080/"
        },
        "outputId": "e19f446a-365f-433e-e6ea-14ea3456a35d"
      },
      "execution_count": 5,
      "outputs": [
        {
          "output_type": "stream",
          "name": "stdout",
          "text": [
            "      3     4     5     6     7     8     9     10    11    12    ...  8288  \\\n",
            "3        0     0     0     0     0     0     0     0     0     0  ...     0   \n",
            "4        0     0     0     0     0     1     0     1     0     0  ...     0   \n",
            "5        0     0     0     1     0     1     0     1     0     0  ...     0   \n",
            "6        1     0     0     0     0     1     0     1     0     0  ...     0   \n",
            "7        0     0     0     1     0     0     0     0     0     0  ...     0   \n",
            "...    ...   ...   ...   ...   ...   ...   ...   ...   ...   ...  ...   ...   \n",
            "8293     0     0     0     0     0     0     0     0     0     0  ...     0   \n",
            "8294     0     0     0     0     0     0     0     0     0     0  ...     0   \n",
            "8295     0     0     0     0     0     0     0     0     0     0  ...     0   \n",
            "8296     0     0     0     0     0     0     0     0     0     0  ...     0   \n",
            "8297     0     0     0     0     0     0     0     0     0     0  ...     0   \n",
            "\n",
            "      8289  8290  8291  8292  8293  8294  8295  8296  8297  \n",
            "3        0     0     0     0     0     0     0     0     0  \n",
            "4        0     0     0     0     0     0     0     0     0  \n",
            "5        0     0     0     0     0     0     0     0     0  \n",
            "6        0     1     0     0     0     0     0     0     0  \n",
            "7        0     0     0     0     0     0     0     0     0  \n",
            "...    ...   ...   ...   ...   ...   ...   ...   ...   ...  \n",
            "8293     0     0     0     0     0     0     0     0     0  \n",
            "8294     0     0     0     0     0     0     0     0     0  \n",
            "8295     0     0     0     0     0     0     0     0     0  \n",
            "8296     0     0     0     0     0     0     0     0     0  \n",
            "8297     0     0     0     0     0     0     0     0     0  \n",
            "\n",
            "[7115 rows x 7115 columns]\n"
          ]
        }
      ]
    },
    {
      "cell_type": "markdown",
      "source": [
        "1.Number of Nodes"
      ],
      "metadata": {
        "id": "vhvpTZS_fIW-"
      }
    },
    {
      "cell_type": "code",
      "source": [
        "nodes = adj_matrix.shape[0]\n",
        "print(nodes)"
      ],
      "metadata": {
        "colab": {
          "base_uri": "https://localhost:8080/"
        },
        "id": "3uYGnyOGe8Jf",
        "outputId": "01403b7b-badf-4810-f0bf-ab4b5516cbfe"
      },
      "execution_count": 6,
      "outputs": [
        {
          "output_type": "stream",
          "name": "stdout",
          "text": [
            "7115\n"
          ]
        }
      ]
    },
    {
      "cell_type": "markdown",
      "source": [
        "2.Number of Edges\n"
      ],
      "metadata": {
        "id": "GPDnydZAfiLU"
      }
    },
    {
      "cell_type": "code",
      "source": [
        "num_edges=0\n",
        "for edge in data:\n",
        "  num_edges+=1\n",
        "print(num_edges)"
      ],
      "metadata": {
        "colab": {
          "base_uri": "https://localhost:8080/"
        },
        "id": "a9g3karYfoRM",
        "outputId": "32ac20fa-fa07-4fed-ec6c-89e2966cc58c"
      },
      "execution_count": 7,
      "outputs": [
        {
          "output_type": "stream",
          "name": "stdout",
          "text": [
            "103689\n"
          ]
        }
      ]
    },
    {
      "cell_type": "markdown",
      "source": [
        "3.Avg In-degree"
      ],
      "metadata": {
        "id": "P_vPaZZYf7Ov"
      }
    },
    {
      "cell_type": "code",
      "source": [
        "in_degree=np.sum(adj_matrix, axis=0)\n",
        "avg_in_degree = np.mean(in_degree)\n",
        "print(avg_in_degree)"
      ],
      "metadata": {
        "colab": {
          "base_uri": "https://localhost:8080/"
        },
        "id": "GksEwPqxf-P2",
        "outputId": "eff3adf8-0190-45a6-8a80-6f510906792f"
      },
      "execution_count": 13,
      "outputs": [
        {
          "output_type": "stream",
          "name": "stdout",
          "text": [
            "14.573295853829936\n"
          ]
        }
      ]
    },
    {
      "cell_type": "markdown",
      "source": [
        "4.Avg Out-degree\n"
      ],
      "metadata": {
        "id": "rTbBoDhjsWw9"
      }
    },
    {
      "cell_type": "code",
      "source": [
        "out_degrees=np.sum(adj_matrix, axis=1)\n",
        "avg_out_degree=np.mean(out_degrees)\n",
        "print(avg_out_degree)"
      ],
      "metadata": {
        "colab": {
          "base_uri": "https://localhost:8080/"
        },
        "id": "Qw0CV-lqj_9n",
        "outputId": "e00efc05-0b48-4afd-90c7-bd73a1c02545"
      },
      "execution_count": 8,
      "outputs": [
        {
          "output_type": "stream",
          "name": "stdout",
          "text": [
            "14.573295853829936\n"
          ]
        }
      ]
    },
    {
      "cell_type": "markdown",
      "source": [
        "5.Node with Max In-degree"
      ],
      "metadata": {
        "id": "Et40BR1gmO-b"
      }
    },
    {
      "cell_type": "code",
      "source": [
        "max_in_degree_node = np.argmax(np.sum(adj_matrix, axis=1))\n",
        "print(max_in_degree_node)"
      ],
      "metadata": {
        "colab": {
          "base_uri": "https://localhost:8080/"
        },
        "id": "o7sEQVTkmNnq",
        "outputId": "74d74c6a-681f-485f-a8df-2758894721c7"
      },
      "execution_count": 9,
      "outputs": [
        {
          "output_type": "stream",
          "name": "stdout",
          "text": [
            "2356\n"
          ]
        }
      ]
    },
    {
      "cell_type": "markdown",
      "source": [
        "6.Node with Max out-degree\n"
      ],
      "metadata": {
        "id": "ZkIuokDR7YyM"
      }
    },
    {
      "cell_type": "code",
      "source": [
        "max_out_degree_node = np.argmax(np.sum(adj_matrix, axis=0))\n",
        "print(max_out_degree_node)"
      ],
      "metadata": {
        "colab": {
          "base_uri": "https://localhost:8080/"
        },
        "id": "koO2lNui7eID",
        "outputId": "3ad8de28-a230-4e26-9e51-24485270a28a"
      },
      "execution_count": 10,
      "outputs": [
        {
          "output_type": "stream",
          "name": "stdout",
          "text": [
            "3649\n"
          ]
        }
      ]
    },
    {
      "cell_type": "markdown",
      "source": [
        "7.The density of the network\n"
      ],
      "metadata": {
        "id": "i4jrqPd773Yl"
      }
    },
    {
      "cell_type": "code",
      "source": [
        "density = num_edges / (n_nodes * (n_nodes - 1))\n",
        "print(density)"
      ],
      "metadata": {
        "colab": {
          "base_uri": "https://localhost:8080/"
        },
        "id": "uCj7oFFH78gH",
        "outputId": "aec4df71-9386-48c7-e0dc-0bd1b606e04f"
      },
      "execution_count": 11,
      "outputs": [
        {
          "output_type": "stream",
          "name": "stdout",
          "text": [
            "0.0020485375110809584\n"
          ]
        }
      ]
    },
    {
      "cell_type": "markdown",
      "source": [
        "**Plot degree distribution of the network**"
      ],
      "metadata": {
        "id": "3zMPsnn69YtU"
      }
    },
    {
      "cell_type": "markdown",
      "source": [
        "i)For in-degree\n"
      ],
      "metadata": {
        "id": "BDeQnuxXnTqh"
      }
    },
    {
      "cell_type": "code",
      "source": [
        "fig, ax = plt.subplots(figsize=(8, 6))\n",
        "ax.hist(in_degree, bins=50, alpha=0.8, color='blue', edgecolor='black', linewidth=1.5,log=\"true\")\n",
        "ax.set_xlabel('In-degree', fontsize=14)\n",
        "ax.set_ylabel('Frequency', fontsize=14)\n",
        "ax.set_title('In-degree Distribution', fontsize=18)\n",
        "ax.grid(True)\n",
        "plt.show()"
      ],
      "metadata": {
        "colab": {
          "base_uri": "https://localhost:8080/",
          "height": 574
        },
        "id": "kHFrYZlyo-wD",
        "outputId": "7f0f3c64-7849-4856-869c-544a9bc11415"
      },
      "execution_count": 20,
      "outputs": [
        {
          "output_type": "display_data",
          "data": {
            "text/plain": [
              "<Figure size 800x600 with 1 Axes>"
            ],
            "image/png": "[encoded data removed]"
          },
          "metadata": {}
        }
      ]
    },
    {
      "cell_type": "markdown",
      "source": [
        "ii) For out degree"
      ],
      "metadata": {
        "id": "TIFhRnzjpOUK"
      }
    },
    {
      "cell_type": "code",
      "source": [
        "fig, ax = plt.subplots(figsize=(8, 6))\n",
        "ax.hist(out_degrees, bins=50, alpha=0.8, color='red', edgecolor='black', linewidth=1.5,log=\"true\")\n",
        "ax.set_xlabel('Out-degree', fontsize=14)\n",
        "ax.set_ylabel('Frequency', fontsize=14)\n",
        "ax.set_title('Out-degree Distribution', fontsize=18)\n",
        "ax.grid(True)\n",
        "plt.show()"
      ],
      "metadata": {
        "colab": {
          "base_uri": "https://localhost:8080/",
          "height": 574
        },
        "id": "X4KOdxQqpNUH",
        "outputId": "f9116720-ec2e-4cfa-9767-ac765408c225"
      },
      "execution_count": 21,
      "outputs": [
        {
          "output_type": "display_data",
          "data": {
            "text/plain": [
              "<Figure size 800x600 with 1 Axes>"
            ],
            "image/png": "[encoded data removed]"
          },
          "metadata": {}
        }
      ]
    },
    {
      "cell_type": "markdown",
      "source": [
        "The local clustering coefficient of each node and plot the clustering-coefficient\n",
        "distribution (lcc vs frequency of lcc) of the network."
      ],
      "metadata": {
        "id": "VL2qN7-Dpnbl"
      }
    },
    {
      "cell_type": "code",
      "source": [
        "adj_matrix = adj_matrix.rename(columns=node_map, index=node_map)\n",
        "clustering = {}\n",
        "for node in node_map:\n",
        "    neighbors = adj_matrix.loc[node_map[node], adj_matrix.loc[node_map[node]] == 1].index.tolist()\n",
        "    k = len(neighbors)\n",
        "    if k > 1:\n",
        "        E = 0\n",
        "        for i in range(k):\n",
        "            for j in range(i+1, k):\n",
        "                if adj_matrix.loc[neighbors[i], neighbors[j]] == 1:\n",
        "                    E += 1\n",
        "        clustering[node] = 2 * E / (k * (k - 1))\n",
        "    else:\n",
        "        clustering[node] = 0\n",
        "\n",
        "# Plot the clustering-coefficient distribution\n",
        "plt.hist(list(clustering.values()), bins=10)\n",
        "plt.xlabel('Local clustering coefficient')\n",
        "plt.ylabel('Frequency')\n",
        "plt.show()"
      ],
      "metadata": {
        "id": "e5d_qumZpusD",
        "colab": {
          "base_uri": "https://localhost:8080/",
          "height": 449
        },
        "outputId": "44008780-3da9-42a5-abcc-e03720aa1fea"
      },
      "execution_count": 17,
      "outputs": [
        {
          "output_type": "display_data",
          "data": {
            "text/plain": [
              "<Figure size 640x480 with 1 Axes>"
            ],
            "image/png": "[encoded data removed]"
          },
          "metadata": {}
        }
      ]
    }
  ]
}